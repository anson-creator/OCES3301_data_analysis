{
 "cells": [
  {
   "cell_type": "markdown",
   "metadata": {},
   "source": [
    "*01 Feb 2025, Julian Mak (whatever with copyright, do what you want with this)\n",
    "\n",
    "### As part of material for OCES 3301 \"Data Analysis in Ocean Sciences\" delivered at HKUST\n",
    "\n",
    "For the latest version of the material, go to the public facing [GitHub](https://github.com/julianmak/academic-notes/tree/master/OCES3301_data_analysis_ocean) page.\n",
    "\n",
    "### General spiel about assessment\n",
    "\n",
    "***Your hand in should be in the form of a Jupyter notebook and associated files (if any), and no other form of hand-ins will be accepted***. The use of Jupyter notebook and its Python component is part of the assessment criteria for the *presentation* and *coding* portion. Hand these in through Canvas in the usual way. You are graded on the following attributes:\n",
    "\n",
    "1) **scientific content** (40%)\n",
    "\n",
    "2) **writing, presentation and referencing** (30%)\n",
    "\n",
    "3) **use of Jupyter and/or Python coding** (30%)\n",
    "\n",
    "4) **orginality** (10%; analysis beyond scope of course, use of memes and puns; surprise me)\n",
    "\n",
    "See the samples assignments I've made for the kind of things we might be expecting. We will probably be fairly loose with giving credit, but 60% or below would count as unsatisfactory (85% or above would be an A grade I would imagine).\n",
    "\n",
    "You are allowed to use other Python packages if you find them, but see point b) below.\n",
    "\n",
    "a) ***Late assignments get a penalty of 1% of full marks per minute*** (so don't bother handing in anything after 2 hours). We will still mark it and give feedback, but you just don't get the credit. Excuses could be entertained but you will need sufficient evidence to back this up (e.g. your internet went down in the area and you have some pictorial/written demosntration for this).\n",
    "\n",
    "b) ***Your code needs to be able to run from scratch at least in the standard Google Colab***, otherwise you will get no marks from the 3rd attribute, and probably next to nothing in the 1st attribute (because your graphs probably won't be generating). When you hand the notebooks in, you should pass it through `Kernel -> Restarts & Clear Output`, so the file is reasonably sized and only full of text (and if you don't *you get a 10% penalty* for not following instructions, for reasons in point c) below). The procedure here is that we will run the whole notebook from scratch probably on [Google Colab](https://colab.research.google.com), then mark the resulting outputs. **So make sure you test your code through Google Colab at least!** (or do your assignments on there, find whatever work flow that works for you).\n",
    "\n",
    "c) ***Plagiarism***: By all means consult each other and/or work together, but the files you hand in should be done and written up separately. For allowing checks in Turnitin, you should pass it through `Kernel -> Restarts & Clear Output` before you hand it in. **The default for anyone accused with plagiarism is ZERO on the assignment**, and depending on whether you decide to contest and the result of the appeal, possibly lead to an official note of plagiarism on your transcript (I will allow people to argue but one should be ready for the consequences). \n",
    "\n",
    "A few things count as plagiarism:\n",
    "\n",
    "**Copying between students, and the default is that ALL parties involved get zero for the assignment**, regardless of whether the side can demonstrate they were copied from (extra incentive to keep the writing separate).\n",
    "\n",
    "**Copying text without citation is plagiarism**. Use quotation marks and give reference if you are directly lifting text, but don't do this too often (and will result in text looking cluttered, and not getting full credit for the *presentation* aspect).\n",
    "\n",
    "**Code is a slightly more grey area**, but I will just say no one has ever really been punished for being cautious and generous with citations, but make sure you present it well (e.g. overburdening text with citations will make the presentation ugly, and will not get full credit for the *presentation* aspect say).\n",
    "\n",
    "I will just make the point that we don't tend to accuse plagiarism unless we have enough proof, and if we are doing it it probably means we think we have a sufficiently strong case that is probably not worth arguing against (because then penalty then gets increased)."
   ]
  },
  {
   "cell_type": "markdown",
   "metadata": {},
   "source": [
    "---------------------------\n",
    "# Assessment 1 (25% of total course grade)\n",
    "\n",
    "For this assignment you will be playing around with the deterministic **Lotka-Volterra model**; some guides on what you might want to consider below. Your goal here is do some descriptive analysis of the model and explore the parameter space in the model through plotting etc. The model implementation has been done for you. I am delibrately not telling you the scientific aspect of the model; this is for you to find out / look up and is part of the assignment. Things you should do here (and the intention behind the tasks):\n",
    "\n",
    "a) look up what the models are supposed to represent, and describe what the parameters correspond to physically [*be able to do some background research*]\n",
    "\n",
    "b) explore numerically the parameter space and see how the model responds through plots and what not [*practise and demonstrate understanding of Python code and plotting*]\n",
    "\n",
    "c) write some of these things up and describe them using the Markdown cells [*practise and demonstrate understanding of Jupyter notebooks*]\n",
    "\n",
    "d) any others that could fall under originality (memes welcome, references to Miffy even better, but scientific content should always come first)"
   ]
  },
  {
   "cell_type": "markdown",
   "metadata": {},
   "source": [
    "**Possible things to investigate and do** (you don't need to do all of this to get full marks):\n",
    "\n",
    "* Have a look at the Wikipedia article to see what things you might want to try and plot (hint hint)\n",
    "* What do the variables and parameters mean? (Note: I am using the same notation as the Wikipedia article)\n",
    "* Make sure the graphs you use are labelled, has a background grid, adjust the fontsize so it is readable etc.\n",
    "* How does the oscillation vary with parameter values ($\\alpha, \\beta, \\gamma, \\delta$) (called (`a`,`b`,`c`,`d`) in the code above)?\n",
    "* Do regime shifts arise (e.g. oscillations $\\leftrightarrow$ rapid decay or exponential growth)?\n",
    "* Plot the **phase diagram**.\n",
    "* What is the **Lyapunov function**, and how well does it stay constant in time? (the $V$ in the Wikipedia article)\n",
    "* Describe the what are the options in `solve_ivp`, change some of these, and see if any of the things you tried change? (particularly the choice of solver and the tolerance)\n",
    "* Compute the fixed point numerically for the Lotka-Volterra equation, and plot that on the phase diagram also. (You probably want a **root finding** method in python or similar)\n",
    "* Adapt the code to implement other Lotka-Volterra like equations, and do a similar exploration as above for those where applicable.\n",
    "\n",
    "<u>Note</u>: For the present purpose, you are allowed to cite Wikipedia, but you probably also want to not have Wikipedia be your only source.\n",
    "\n",
    "***You should name your notebook \"ass1_LotkaVolterra_STUDENTID.ipynb\" when you hand the notebook in through Canvas***. When you hand in the notebook, make sure to delete all the cells above and including this one. Failure to do so may result in anything up to a ***5% deduction***, and this is ***on top of whatever deductions we may have made above for code not working*** under the **use of Jupyter and/or Python coding** category.\n",
    "\n",
    "---"
   ]
  },
  {
   "cell_type": "code",
   "execution_count": null,
   "metadata": {},
   "outputs": [],
   "source": [
    "# sample code to load the numerical models\n",
    "\n",
    "import numpy as np\n",
    "import matplotlib.pyplot as plt\n",
    "from scipy.integrate import solve_ivp"
   ]
  },
  {
   "cell_type": "code",
   "execution_count": null,
   "metadata": {},
   "outputs": [],
   "source": [
    "# quick and dirty implementation for the Lotka-Volterra equations \n",
    "# (a rip off of https://docs.scipy.org/doc/scipy/reference/generated/scipy.integrate.solve_ivp.html)\n",
    "\n",
    "# define some things that that solve_ivp understands\n",
    "def dydx(t, z, a=1.5, b=1.0, c=3.0, d=1.0):\n",
    "    x, y = z\n",
    "    return [a*x - b*x*y, -c*y + d*x*y]\n",
    "\n",
    "t0, tf = 0, 20\n",
    "t_span = [t0, tf]\n",
    "t_eval = np.linspace(t0, tf, 301)\n",
    "y0 = np.array([10, 5])  # would suggest keeping values here between 0 and 1\n",
    "\n",
    "out = solve_ivp(dydx, t_span, y0, t_eval=t_eval)  # use default (a,b,c,d) param choices\n",
    "# out = solve_ivp(dydx, t_span, \n",
    "#                 [0.9, 0.9],            # override the initial conditions\n",
    "#                 args=(2/3, 4/3, 1, 1), # override the (a,b,c,d) param choices\n",
    "#                 t_eval=t_eval) "
   ]
  },
  {
   "cell_type": "code",
   "execution_count": null,
   "metadata": {},
   "outputs": [],
   "source": [
    "# quick unformatted plot of the solution \n",
    "# (output is called \"y\" even though I called it \"z\" in \"dydx\" above; it's just how solve_ivp works...)\n",
    "\n",
    "plt.plot(out.t, out.y[0])\n",
    "plt.plot(out.t, out.y[1])"
   ]
  },
  {
   "cell_type": "code",
   "execution_count": null,
   "metadata": {},
   "outputs": [],
   "source": []
  }
 ],
 "metadata": {
  "kernelspec": {
   "display_name": "Python 3 (ipykernel)",
   "language": "python",
   "name": "python3"
  },
  "language_info": {
   "codemirror_mode": {
    "name": "ipython",
    "version": 3
   },
   "file_extension": ".py",
   "mimetype": "text/x-python",
   "name": "python",
   "nbconvert_exporter": "python",
   "pygments_lexer": "ipython3",
   "version": "3.9.16"
  },
  "latex_envs": {
   "LaTeX_envs_menu_present": true,
   "autoclose": false,
   "autocomplete": true,
   "bibliofile": "biblio.bib",
   "cite_by": "apalike",
   "current_citInitial": 1,
   "eqLabelWithNumbers": true,
   "eqNumInitial": 1,
   "hotkeys": {
    "equation": "Ctrl-E",
    "itemize": "Ctrl-I"
   },
   "labels_anchors": false,
   "latex_user_defs": false,
   "report_style_numbering": false,
   "user_envs_cfg": false
  }
 },
 "nbformat": 4,
 "nbformat_minor": 4
}
