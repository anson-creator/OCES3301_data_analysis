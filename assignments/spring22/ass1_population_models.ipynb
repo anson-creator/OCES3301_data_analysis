{
 "cells": [
  {
   "cell_type": "markdown",
   "metadata": {},
   "source": [
    "*19 Jan 2021, Julian Mak (whatever with copyright, do what you want with this)\n",
    "\n",
    "### As part of material for OCES 3301 \"Data Analysis in Ocean Sciences\" delivered at HKUST\n",
    "\n",
    "For the latest version of the material, go to the public facing [GitHub](https://github.com/julianmak/academic-notes/tree/master/OCES3301_data_analysis_ocean) page.\n",
    "\n",
    "### General spiel about assessment\n",
    "\n",
    "***Your hand in should be in the form of a Jupyter notebook and associated files (if any), and no other form of hand-ins will be accepted***. The use of Jupyter notebook and its Python component is part of the *presentation* and *coding* assessment criteria. Submit the notebooks through Canvas in the usual way. You are graded on the following attributes (yes the total adds up to 110%, that is intended):\n",
    "\n",
    "1) **scientific content** (50%)\n",
    "\n",
    "2) **writing, presentation and referencing** (35%)\n",
    "\n",
    "3) **use of Jupyter and/or Python coding** (15%)\n",
    "\n",
    "4) **originality** (10%; analysis beyond scope of course, use of memes and puns; surprise me)\n",
    "\n",
    "Anything above 100% is just going to be 100%, although there may be a course prize of sorts at the end. The intention here is that there is credit you can get for \"extras\", but really the bulk of the credit comes from the \"basic\" things.\n",
    "\n",
    "See the model assignments I've made for the kind of things we might be expecting. We will probably be fairly loose with giving credit, but 60% or below would count as unsatisfactory (85% or above would be an A grade I would imagine).\n",
    "\n",
    "You are allowed to use other Python packages if you find them, but see point b) below.\n",
    "\n",
    "a) ***Late assignments get a penalty of 1% of full marks per minute*** (so don't bother handing in anything after 2 hours). We will still mark it and give feedback, but you just don't get the credit. Excuses could be entertained but you will need sufficient evidence to back these up (e.g. your internet went down in the area and you have some pictorial/written demonstration for this).\n",
    "\n",
    "b) ***Your code needs to be able to run from scratch at least in the standard Google Colab, or with appropriate `pip` commands to call extra modules***, otherwise you will get no marks from the 3rd attribute, and probably next to nothing in the 1st attribute (because your graphs probably won't be generating). When you hand the notebooks in, you should pass it through `Kernel -> Restarts & Clear Output`, so the file is reasonably sized and only full of text (and if you don't *you get a 10% penalty* for not following instructions, for reasons in point c) below). The procedure here is that we will run the whole notebook from scratch probably on [Google Colab](https://colab.research.google.com), then mark the resulting outputs. We will do reasonable attempts to get the notebook running (though \"reasonable\" is loosely defined). To avoid the issue entirely, **make sure you test your code through Google Colab before you hand in!** (or do your assignments on there, find whatever work flow that works for you).\n",
    "\n",
    "c) ***Plagiarism***: By all means consult each other and/or work together, but the files you hand in should be done and written up separately. For allowing checks in Turnitin, you should pass it through `Kernel -> Restarts & Clear Output` before you hand it in, otherwise *you get a 10% penalty* for not following instructions. **The default for anyone accused with plagiarism is ZERO on the assignment**, and depending on whether you decide to contest and the result of the appeal, possibly lead to an official note of plagiarism on your transcript or more (I will allow people to argue but one should be ready for the consequences). \n",
    "\n",
    "A few things count as plagiarism:\n",
    "\n",
    "**Copying between students, and the default is that ALL parties involved get zero for the assignment**, regardless of whether the side can demonstrate they were copied from (extra incentive to keep the writing separate).\n",
    "\n",
    "**Copying text without citation is plagiarism**. Use quotation marks and give references if you are directly lifting text, but don't do this too often (as this will result in text looking cluttered, and not getting full credit for the *presentation* aspect).\n",
    "\n",
    "**Code is a slightly more grey area**. I will just say no one has ever really been punished for being cautious and generous with citations, but make sure you present it well (e.g. overburdening text with citations will make the presentation ugly, and will not get full credit for the *presentation* aspect say).\n",
    "\n",
    "I will just make the point that we don't tend to accuse plagiarism unless we have enough proof, and if we are doing it it probably means we think we have a sufficiently strong case that is probably not worth arguing against (because then penalty then gets increased)."
   ]
  },
  {
   "cell_type": "markdown",
   "metadata": {},
   "source": [
    "---------------------------\n",
    "# Assessment 1 (10% of total course grade)\n",
    "\n",
    "For this you need the file `model_collection.py`, which contains some numerical models I coded up quickly (feel free to play around with the other ones if you want).\n",
    "\n",
    "For the assignment, you will be doing some analysis for ***either*** the **Lotka-Volterra model** with stochasticity, or the slightly modified **Nicolson-Bailey model**, that are both models for population dynamics in some form or another. You could do both, but you will only be given credit for the first one that appears in the notebook, so make sure you organise the code and markdown cells accordingly if you do look at both.\n",
    "\n",
    "Your goal here is do some descriptive analysis of the model and explore the parameter space in the model through plotting etc., and some sample code is given to you below to demonstrate how the subroutines work (I am not really expecting you do understand the subroutines I wrote, but you could and that would count as the originality part I suppose). I am deliberately not telling you the scientific aspects of the model; that is for you to find out / look up, and is part of the assessment. Things you should do here (and the intention behind the tasks):\n",
    "\n",
    "a) look up what the model(s) and relevant parameters are supposed to represent [*be able to do some background research*]\n",
    "\n",
    "b) explore numerically the parameter space and see how the model responds through plots and what not [*practise and demonstrate understanding of Python code and plotting*]\n",
    "\n",
    "c) write some of these things up and describe them using the Markdown cells [*practise and demonstrate understanding of Jupyter notebooks*]\n",
    "\n",
    "d) any others that could fall under originality (memes welcome, references to Miffy even better, but scientific content should always come first)\n",
    "\n",
    "***You should name your notebook \"ass1_pop_model_STUDENTID.ipynb\" when you hand the notebook in through Canvas***. Failure to do so may result in anything up to a 5% deduction for not following instructions (on top of whatever deductions we may have made above for code not working etc.)"
   ]
  },
  {
   "cell_type": "code",
   "execution_count": null,
   "metadata": {},
   "outputs": [],
   "source": [
    "# sample code to load the numerical models\n",
    "\n",
    "import numpy as np\n",
    "import matplotlib.pyplot as plt\n",
    "from model_collection import mod_nicolson_bailey, noisy_lotka_volterra"
   ]
  },
  {
   "cell_type": "code",
   "execution_count": null,
   "metadata": {},
   "outputs": [],
   "source": [
    "# modified (density dependent) Nicolson-Bailey model\n",
    "k = 2.1\n",
    "r = 0.1\n",
    "host, para = mod_nicolson_bailey(k, r)\n",
    "\n",
    "plt.plot(host, label=\"host\")\n",
    "plt.plot(para, label=\"parasite\")"
   ]
  },
  {
   "cell_type": "code",
   "execution_count": null,
   "metadata": {},
   "outputs": [],
   "source": [
    "# default noisy Lotka-Volterra equation\n",
    "prey, pred = noisy_lotka_volterra()\n",
    "\n",
    "plt.plot(prey, label=\"prey\")\n",
    "plt.plot(pred, label=\"predator\")\n",
    "plt.legend()"
   ]
  },
  {
   "cell_type": "code",
   "execution_count": null,
   "metadata": {},
   "outputs": [],
   "source": [
    "# noisy Lotka-Volterra equation (As default, but modify noise)\n",
    "noise = 0.1\n",
    "prey, pred = noisy_lotka_volterra(a=2/3, b=5/3, c=1.0, d=1.0, noise=noise)\n",
    "\n",
    "plt.plot(prey, label=\"prey\")\n",
    "plt.plot(pred, label=\"predator\")\n",
    "plt.title(f\"noise level = {noise}\")\n",
    "plt.grid()"
   ]
  },
  {
   "cell_type": "code",
   "execution_count": null,
   "metadata": {},
   "outputs": [],
   "source": []
  }
 ],
 "metadata": {
  "kernelspec": {
   "display_name": "Python 3",
   "language": "python",
   "name": "python3"
  },
  "language_info": {
   "codemirror_mode": {
    "name": "ipython",
    "version": 3
   },
   "file_extension": ".py",
   "mimetype": "text/x-python",
   "name": "python",
   "nbconvert_exporter": "python",
   "pygments_lexer": "ipython3",
   "version": "3.8.3"
  },
  "latex_envs": {
   "LaTeX_envs_menu_present": true,
   "autoclose": false,
   "autocomplete": true,
   "bibliofile": "biblio.bib",
   "cite_by": "apalike",
   "current_citInitial": 1,
   "eqLabelWithNumbers": true,
   "eqNumInitial": 1,
   "hotkeys": {
    "equation": "Ctrl-E",
    "itemize": "Ctrl-I"
   },
   "labels_anchors": false,
   "latex_user_defs": false,
   "report_style_numbering": false,
   "user_envs_cfg": false
  }
 },
 "nbformat": 4,
 "nbformat_minor": 4
}
