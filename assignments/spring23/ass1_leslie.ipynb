{
 "cells": [
  {
   "cell_type": "markdown",
   "metadata": {},
   "source": [
    "*11 Feb 2023, Julian Mak (whatever with copyright, do what you want with this)\n",
    "\n",
    "### As part of material for OCES 3301 \"Data Analysis in Ocean Sciences\" delivered at HKUST\n",
    "\n",
    "For the latest version of the material, go to the public facing [GitHub](https://github.com/julianmak/academic-notes/tree/master/OCES3301_data_analysis_ocean) page.\n",
    "\n",
    "### General spiel about assessment\n",
    "\n",
    "***Your hand in should be in the form of a Jupyter notebook and associated files (if any), and no other form of hand-ins will be accepted***. The use of Jupyter notebook and its Python component is part of the *presentation* and *coding* assessment criteria. Submit the notebooks through Canvas in the usual way. You are graded on the following attributes (yes the total adds up to 110%, that is intended):\n",
    "\n",
    "1) **scientific content** (50%)\n",
    "\n",
    "2) **writing, presentation and referencing** (35%)\n",
    "\n",
    "3) **use of Jupyter and/or Python coding** (15%)\n",
    "\n",
    "4) **originality** (10%; analysis beyond scope of course, use of memes and puns; surprise me)\n",
    "\n",
    "Anything above 100% is just going to be 100%, although there may be a course prize of sorts at the end. The intention here is that there is credit you can get for \"extras\", but really the bulk of the credit comes from the \"basic\" things.\n",
    "\n",
    "See the model assignments I've made for the kind of things we might be expecting. We will probably be fairly loose with giving credit, but 60% or below would count as unsatisfactory (85% or above would be an A grade I would imagine).\n",
    "\n",
    "You are allowed to use other Python packages if you find them, but see point b) below.\n",
    "\n",
    "a) ***Late assignments get a penalty of 1% of full marks per minute*** (so don't bother handing in anything after 2 hours). We will still mark it and give feedback, but you just don't get the credit. Excuses could be entertained but you will need sufficient evidence to back these up (e.g. your internet went down in the area and you have some pictorial/written demonstration for this).\n",
    "\n",
    "b) ***Your code needs to be able to run from scratch at least in the standard Google Colab, or with appropriate `pip` commands to call extra modules***, otherwise you will get no marks from the 3rd attribute, and probably next to nothing in the 1st attribute (because your graphs probably won't be generating). When you hand the notebooks in, you should pass it through `Kernel -> Restarts & Clear Output`, so the file is reasonably sized and only full of text (and if you don't *you get a 10% penalty* for not following instructions, for reasons in point c) below). The procedure here is that we will run the whole notebook from scratch probably on [Google Colab](https://colab.research.google.com), then mark the resulting outputs. We will do reasonable attempts to get the notebook running (though \"reasonable\" is loosely defined). To avoid the issue entirely, **make sure you test your code through Google Colab before you hand in!** (or do your assignments on there, find whatever work flow that works for you).\n",
    "\n",
    "c) ***Plagiarism***: By all means consult each other and/or work together, but the files you hand in should be done and written up separately. For allowing checks in Turnitin, you should pass it through `Kernel -> Restarts & Clear Output` before you hand it in, otherwise *you get a 10% penalty* for not following instructions. **The default for anyone accused with plagiarism is ZERO on the assignment**, and depending on whether you decide to contest and the result of the appeal, possibly lead to an official note of plagiarism on your transcript or more (I will allow people to argue but one should be ready for the consequences). \n",
    "\n",
    "A few things count as plagiarism:\n",
    "\n",
    "**Copying between students, and the default is that ALL parties involved get zero for the assignment**, regardless of whether the side can demonstrate they were copied from (extra incentive to keep the writing separate).\n",
    "\n",
    "**Copying text without citation is plagiarism**. Use quotation marks and give references if you are directly lifting text, but don't do this too often (as this will result in text looking cluttered, and not getting full credit for the *presentation* aspect).\n",
    "\n",
    "**Code is a slightly more grey area**. I will just say no one has ever really been punished for being cautious and generous with citations, but make sure you present it well (e.g. overburdening text with citations will make the presentation ugly, and will not get full credit for the *presentation* aspect say).\n",
    "\n",
    "I will just make the point that we don't tend to accuse plagiarism unless we have enough proof, and if we are doing it it probably means we think we have a sufficiently strong case that is probably not worth arguing against (because then penalty then gets increased)."
   ]
  },
  {
   "cell_type": "markdown",
   "metadata": {},
   "source": [
    "---------------------------\n",
    "# Assessment 1 (10% of total course grade)\n",
    "\n",
    "For the assignment, you will be doing playing around and doing some analysis for what is known as the **Leslie model** for population dynamics. Your goal here is do some descriptive analysis of the model and explore the parameter space in the model through plotting etc., and some sample code is given to you below to demonstrate how some plotting syntax, and possible things to explore. I am deliberately not telling you the scientific aspects of the model; that is for you to find out / look up, and is part of the assessment. Things you should do here (and the intention behind the tasks):\n",
    "\n",
    "a) look up what the model and relevant parameters are supposed to represent [*be able to do some background research*]\n",
    "\n",
    "b) explore numerically the parameter space and see how the model responds through plots and what not [*practise and demonstrate understanding of Python code and plotting*]\n",
    "\n",
    "c) write some of these things up and describe them using the Markdown cells [*practise and demonstrate understanding of Jupyter notebooks*]\n",
    "\n",
    "d) any others that could fall under originality (memes welcome, references to Miffy even better, but scientific content should always come first)\n",
    "\n",
    "***You should name your notebook \"ass1_leslie_STUDENTID.ipynb\" when you hand the notebook in through Canvas***. Failure to do so may result in anything up to a 5% deduction for not following instructions (on top of whatever deductions we may have made above for code not working etc.)"
   ]
  },
  {
   "cell_type": "code",
   "execution_count": null,
   "metadata": {},
   "outputs": [],
   "source": [
    "# sample code to load the numerical models\n",
    "\n",
    "import numpy as np\n",
    "import matplotlib.pyplot as plt"
   ]
  },
  {
   "cell_type": "markdown",
   "metadata": {},
   "source": [
    "Example below adapted / ripped off from https://web.math.utk.edu/~heather/lecture17.pdf, slide 47; probably fixing a typo there).\n",
    "\n",
    "If we divide a fish population into the classes of larvae, juveniles, adults (age two or more), assume:\n",
    "* Females who reach age of 2 years survive an additional year with probability 0.95 and reproduce with the pobability of 0.42.\n",
    "* There is a 0.6 chance that a larvae survives to be a juvenile.\n",
    "* There is a ***0.75*** chance that a juvenile survives to adulthood."
   ]
  },
  {
   "cell_type": "code",
   "execution_count": null,
   "metadata": {},
   "outputs": [],
   "source": [
    "# set up leslie matrix:\n",
    "\n",
    "A = np.asarray([[0.0, 0.0, 0.42], [0.6, 0.0, 0.0], [0.0, 0.75, 0.95]])\n",
    "\n",
    "# do a print to visualise the matrix and transition \"probabilities\"\n",
    "#   (it's not really a probability because columns don't sum to 1)\n",
    "print(A)"
   ]
  },
  {
   "cell_type": "code",
   "execution_count": null,
   "metadata": {},
   "outputs": [],
   "source": [
    "# set up an initial condition (which should match the size of matrix rows)\n",
    "\n",
    "b0 = np.asarray([0.0, 0.0, 100.0])\n",
    "print(f\"year 0: we have larvae = {b0[0]}, juveniles = {b0[1]}, adults = {b0[2]}, total pop = {np.sum(b0)}\")\n",
    "\n",
    "# sample display of population after one \"iteration\" (year in this case, if you like)\n",
    "b1 = A @ b0\n",
    "print(f\"year 1: we have larvae = {b1[0]}, juveniles = {b1[1]}, adults = {b1[2]}, total pop = {np.sum(b1)}\")"
   ]
  },
  {
   "cell_type": "code",
   "execution_count": null,
   "metadata": {},
   "outputs": [],
   "source": [
    "# cycle of 10 years\n",
    "\n",
    "num_classes = A.shape[0]\n",
    "num_years = 10\n",
    "\n",
    "b_vec = np.zeros((num_classes, num_years+1))\n",
    "b_vec[:, 0] = np.asarray([0.0, 0.0, 100.0]) # initial condition\n",
    "\n",
    "print(f\"\"\"year 0: we have larvae = {b_vec[0, 0]}, juveniles = {b_vec[1, 0]}, adults = {b_vec[2, 0]}, \n",
    "   total pop = {np.sum(b_vec[:, 0])}\"\"\")\n",
    "\n",
    "for i in range(num_years):\n",
    "    \n",
    "    b_vec[:, i+1] = A @ b_vec[:, i]\n",
    "    \n",
    "    # going to round DOWN the population\n",
    "    b_vec[:, i+1] = np.rint(b_vec[:, i+1])  # round down and take integer part\n",
    "    \n",
    "    print(f\"\"\"year {i+1}: we have larvae = {b_vec[0, i+1]}, juveniles = {b_vec[1, i+1]}, adults = {b_vec[2, i+1]}, \n",
    "       total pop = {np.sum(b_vec[:, i+1])}\"\"\")"
   ]
  },
  {
   "cell_type": "code",
   "execution_count": null,
   "metadata": {},
   "outputs": [],
   "source": [
    "# numbers hard to visualise, try a graph\n",
    "\n",
    "fig = plt.figure(figsize=(6, 3))\n",
    "ax = plt.axes()\n",
    "ax.plot(b_vec[0, :], '-x', label=r\"larvae\")  # not providing x-axis here, automatically assume against [0, 1, 2...]\n",
    "ax.plot(b_vec[1, :], '-x', label=r\"junveniles\")\n",
    "ax.plot(b_vec[2, :], '-x', label=r\"adults\")\n",
    "ax.plot(np.sum(b_vec, axis=0), 'k-x', label=r\"total population\")  # summing over the 1st dimension, all classes\n",
    "ax.legend()\n",
    "ax.grid()\n",
    "ax.set_xlabel(r\"year\")\n",
    "ax.set_ylabel(r\"population\")"
   ]
  },
  {
   "cell_type": "markdown",
   "metadata": {},
   "source": [
    "**Possible questions to investigate** (you don't need to do all of this, but you could I suppose):\n",
    "\n",
    "* Does the population here saturate? Is this realistic?\n",
    "* How does the proportion of larvae : juveniles : adults evolve? (i.e. normalise plot by total population)\n",
    "* Different ways of presenting data? (e.g. histograms? log graphs? waterfall graphs?)\n",
    "* Dependence on initial condition?\n",
    "* Dependence on choice of entries in the Leslie matrix? (e.g. reproduction rates, survival rates etc.)\n",
    "* Increasing more classes (probably don't do more than 10), each with their own death and/or reproducibility rates?\n",
    "* Possibility for extinction, cycles, others?\n",
    "* Use this on some \"real\" data? (e.g. try Ch.7 of https://scse.d.umn.edu/sites/scse.d.umn.edu/files/amber_koslucher_thesis.pdf or analogous)\n",
    "* Adding some randomness to the entries in the Leslie matrix? (And what would this mean physically? Would suggest sticking with Gaussian noise.)\n",
    "* [EXTRA] Mathematical theory behind this? (e.g. can we predict the long term rate of increase etc.?)\n",
    "\n",
    "<u>Note</u>: You should probably need to do citations here. You are allowed to cite Wikipedia."
   ]
  },
  {
   "cell_type": "code",
   "execution_count": null,
   "metadata": {},
   "outputs": [],
   "source": []
  }
 ],
 "metadata": {
  "kernelspec": {
   "display_name": "Python 3",
   "language": "python",
   "name": "python3"
  },
  "language_info": {
   "codemirror_mode": {
    "name": "ipython",
    "version": 3
   },
   "file_extension": ".py",
   "mimetype": "text/x-python",
   "name": "python",
   "nbconvert_exporter": "python",
   "pygments_lexer": "ipython3",
   "version": "3.8.3"
  },
  "latex_envs": {
   "LaTeX_envs_menu_present": true,
   "autoclose": false,
   "autocomplete": true,
   "bibliofile": "biblio.bib",
   "cite_by": "apalike",
   "current_citInitial": 1,
   "eqLabelWithNumbers": true,
   "eqNumInitial": 1,
   "hotkeys": {
    "equation": "Ctrl-E",
    "itemize": "Ctrl-I"
   },
   "labels_anchors": false,
   "latex_user_defs": false,
   "report_style_numbering": false,
   "user_envs_cfg": false
  }
 },
 "nbformat": 4,
 "nbformat_minor": 4
}
